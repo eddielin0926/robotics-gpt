{
 "cells": [
  {
   "cell_type": "markdown",
   "id": "b96b1f0b",
   "metadata": {},
   "source": [
    "# OpenAI Robotics Interaction Demo"
   ]
  },
  {
   "cell_type": "code",
   "execution_count": 39,
   "id": "6adeca2a",
   "metadata": {},
   "outputs": [],
   "source": [
    "import os\n",
    "import openai\n",
    "openai.api_type = \"azure\"\n",
    "openai.api_base = \"https://a9openai.openai.azure.com/\"\n",
    "openai.api_version = \"2022-12-01\"\n",
    "openai.api_key = \"351165ca0090473b8d30b744a507871a\""
   ]
  },
  {
   "cell_type": "markdown",
   "id": "1ede18a4",
   "metadata": {},
   "source": [
    "### Load the robot interface\n",
    "This is the preamble that will be used to set the context for the call to the codex model. \n",
    "\n",
    "These methods are unimplemented, mainly to keep the model input short and to-the-point. Later, this will be swapped for the implemented version to run on the robot."
   ]
  },
  {
   "cell_type": "code",
   "execution_count": 40,
   "id": "18a3ee32",
   "metadata": {},
   "outputs": [
    {
     "name": "stdout",
     "output_type": "stream",
     "text": [
      "# Python 3\n",
      "# Interface for a robot arm\n",
      "\n",
      "class Color(enum.Enum):\n",
      "    Blue =   \"blue\"   #blue\n",
      "    Green =  \"green\"  #green\n",
      "    Yellow = \"yellow\" #yellow\n",
      "    Red =    \"red\"    #red\n",
      "    Orange = \"orange\" #orange\n",
      "    Black =  \"black\"  #black\n",
      "    \n",
      "class SceneObjectType(enum.Enum):\n",
      "    Block =  \"block\"  #block\n",
      "    Bin =    \"bin\"    #bin\n",
      "    Ball =   \"ball\"   #ball\n",
      "    \n",
      "class Pose:\n",
      "\n",
      "class SceneObject:\n",
      "    def get_color(self) -> Color:\n",
      "        \"\"\"Gets the color of the scene object\"\"\"\n",
      "    \n",
      "    def get_object_type(self) -> SceneObjectType:\n",
      "        \"\"\"Gets the object type of the scene object\"\"\"\n",
      "    \n",
      "    def get_pose(self) -> Pose:\n",
      "        \"\"\"Gets the pose of the scene object\"\"\"\n",
      "        \n",
      "class RobotController:\n",
      "    def __init__(self):\n",
      "        \"\"\"RobotController initializer\"\"\"\n",
      "        \n",
      "    def get_scene_objects(self) -> List<SceneObject>:\n",
      "        \"\"\"Gets all objects in the visual scene.\"\"\"\n",
      "\n",
      "    def pick_and_place(self, pick_pose:Pose, place_pose:Pose):\n",
      "        \"\"\"The robot will pick up the object at target_pose and move it to the placement_pose\"\"\"\n",
      "    \n",
      "###\n"
     ]
    }
   ],
   "source": [
    "f = open(\"robot_interface.py\",\"r\")\n",
    "template = f.read()\n",
    "\n",
    "print(template)"
   ]
  },
  {
   "cell_type": "markdown",
   "id": "04438b83",
   "metadata": {},
   "source": [
    "### Create your prompt"
   ]
  },
  {
   "cell_type": "code",
   "execution_count": 41,
   "id": "eb6d9022",
   "metadata": {},
   "outputs": [],
   "source": [
    "good_examples =  \"\"\"\n",
    "\n",
    "# Pick up the blue block and put it in the red bin.\n",
    "# The robot can only hold one object at a time.\n",
    "robot = RobotController()\n",
    "scene = robot.get_scene_objects()\n",
    "blue_block = None\n",
    "red_bin = None\n",
    "for obj in scene:\n",
    "    if obj.get_color() == Color.Blue and obj.get_object_type() == SceneObjectType.Block:\n",
    "        blue_block = obj\n",
    "    elif obj.get_color() == Color.Red and obj.get_object_type() == SceneObjectType.Bin:\n",
    "        red_bin = obj\n",
    "if blue_block != None and red_bin != None:\n",
    "    robot.pick_and_place(blue_block.get_pose(), red_bin.get_pose())\n",
    "else:\n",
    "    print(\"Could not find blue block or red bin.\")\n",
    "\n",
    "### \n",
    "\n",
    "# Pick up all the yellow blocks and put them in the orange bin.\n",
    "# The robot can only hold one object at a time.\n",
    "robot = RobotController()\n",
    "scene = robot.get_scene_objects()\n",
    "\n",
    "# Find the yellow blocks\n",
    "yellow_blocks = [b for b in scene if o.get_color() == Color.Yellow and o.get_object_type() == SceneObjectType.Block]\n",
    "\n",
    "# Find the orange bin\n",
    "orange_bin = next((o for o in scene if o.get_color() == Color.Orange and o.get_object_type() == SceneObjectType.Bin), None)\n",
    "        \n",
    "if yellow_blocks != [] and orange_bin != None:\n",
    "    for block in yellow_blocks:\n",
    "        robot.pick_and_place(block.get_pose(), orange_bin.get_pose())\n",
    "else:\n",
    "    print(\"Could not find yellow blocks or orange bin.\")\n",
    "\n",
    "###\n",
    "\n",
    "\"\"\""
   ]
  },
  {
   "cell_type": "code",
   "execution_count": 47,
   "id": "743d3c97",
   "metadata": {},
   "outputs": [],
   "source": [
    "prompt = \"\"\"\n",
    "\n",
    "# Pick up green block and put it in the black bin.\n",
    "# The robot can only hold one object at a time.\n",
    "\"\"\""
   ]
  },
  {
   "cell_type": "markdown",
   "id": "818021e0",
   "metadata": {},
   "source": [
    "### Submit the request to OpenAI"
   ]
  },
  {
   "cell_type": "code",
   "execution_count": 48,
   "id": "43169c54",
   "metadata": {},
   "outputs": [
    {
     "name": "stdout",
     "output_type": "stream",
     "text": [
      "robot = RobotController()\n",
      "scene = robot.get_scene_objects()\n",
      "\n",
      "# Find the green block\n",
      "green_block = next((o for o in scene if o.get_color() == Color.Green and o.get_object_type() == SceneObjectType.Block), None)\n",
      "\n",
      "# Find the black bin\n",
      "black_bin = next((o for o in scene if o.get_color() == Color.Black and o.get_object_type() == SceneObjectType.Bin), None)\n",
      "        \n",
      "if green_block != None and black_bin != None:\n",
      "    robot.pick_and_place(green_block.get_pose(), black_bin.get_pose())\n",
      "else:\n",
      "    print(\"Could not find green block or black bin.\")\n",
      "\n",
      "\n"
     ]
    }
   ],
   "source": [
    "response = openai.Completion.create(\n",
    "  engine=\"robotics-ai\",\n",
    "  prompt=template+good_examples+prompt,\n",
    "  temperature=0.25,\n",
    "  max_tokens=300,\n",
    "  top_p=0.5,\n",
    "  frequency_penalty=0,\n",
    "  presence_penalty=0,\n",
    "  best_of=1,\n",
    "  stop=[\"###\", \"\\n\\n\"])\n",
    "response_text = response[\"choices\"][0][\"text\"]\n",
    "# print(response)\n",
    "print(response_text)"
   ]
  },
  {
   "cell_type": "markdown",
   "id": "faab99e6",
   "metadata": {},
   "source": [
    "### Run the program\n",
    "First, load up the full program and make sure it looks good."
   ]
  },
  {
   "cell_type": "code",
   "execution_count": null,
   "id": "7230b898",
   "metadata": {},
   "outputs": [],
   "source": [
    "f = open(\"robot_implementation.py\",\"r\")\n",
    "implementation = f.read()\n",
    "\n",
    "full_code = implementation+prompt+response_text\n",
    "print(full_code)"
   ]
  },
  {
   "cell_type": "markdown",
   "id": "d1be4586",
   "metadata": {},
   "source": [
    "Time to run the program!"
   ]
  },
  {
   "cell_type": "code",
   "execution_count": null,
   "id": "39e5a376",
   "metadata": {
    "scrolled": false
   },
   "outputs": [],
   "source": [
    "full_code = implementation+prompt+response_text\n",
    "exec(full_code)"
   ]
  },
  {
   "cell_type": "markdown",
   "id": "d972afab",
   "metadata": {},
   "source": [
    "# Appendix\n",
    "### Initialize ROS environment"
   ]
  },
  {
   "cell_type": "code",
   "execution_count": null,
   "id": "5b93f963",
   "metadata": {},
   "outputs": [],
   "source": [
    "!source /opt/ros/noetic/setup.bash\n",
    "!source ~/catkin_ws/devel/local_setup.sh"
   ]
  },
  {
   "cell_type": "markdown",
   "id": "4ee27218",
   "metadata": {},
   "source": [
    "Run this in another command window:\n",
    "\n",
    "    `\n",
    "    source /opt/ros/noetic/setup.bash\n",
    "    source ~/catkin_ws/devel/setup.sh\n",
    "    source ~/catkin_ws/devel/local_setup.sh\n",
    "    roslaunch niryo_moveit part_3.launch\n",
    "    `"
   ]
  },
  {
   "cell_type": "code",
   "execution_count": null,
   "id": "9896bda1",
   "metadata": {
    "scrolled": true
   },
   "outputs": [],
   "source": [
    "! rostopic list"
   ]
  },
  {
   "cell_type": "code",
   "execution_count": null,
   "id": "a34614c6",
   "metadata": {},
   "outputs": [],
   "source": [
    "! rostopic pub /unity/pickup_block std_msgs/String HelloUnity"
   ]
  },
  {
   "cell_type": "code",
   "execution_count": null,
   "id": "63a46a8e",
   "metadata": {},
   "outputs": [],
   "source": []
  },
  {
   "cell_type": "code",
   "execution_count": null,
   "id": "d51ceb63",
   "metadata": {
    "scrolled": true
   },
   "outputs": [],
   "source": [
    "import roslibpy\n",
    "import time\n",
    "\n",
    "client = roslibpy.Ros(host='localhost', port=8080)\n",
    "client.run()\n",
    "print('Is ROS connected?', client.is_connected)\n",
    "\n",
    "#service = roslibpy.Service(client, '/rosout/get_loggers', 'roscpp/GetLoggers')\n",
    "#request = roslibpy.ServiceRequest()\n",
    "\n",
    "\n",
    "#print('Calling service...')\n",
    "#result = service.call(request)\n",
    "#print('Service response: {}'.format(result['loggers']))\n",
    "\n",
    "#talker = roslibpy.Topic(client, '/unity/pickup_block', 'std_msgs/String')\n",
    "\n",
    "#talker.publish(roslibpy.Message({'data': 'yellow_block'}))\n",
    "#print('Sending message...')\n",
    "#time.sleep(1)\n",
    "\n",
    "#talker = roslibpy.Topic(client, '/unity/pick_and_place', 'niryo_moveit/PickAndPlace')\n",
    "\n",
    "\n",
    "#talker.unadvertise()\n",
    "#client.terminate()\n"
   ]
  },
  {
   "cell_type": "code",
   "execution_count": null,
   "id": "dfa0608c",
   "metadata": {},
   "outputs": [],
   "source": [
    "talker.publish(roslibpy.Message({'target': 'blue_block', 'targetPlacement': 'red_bin'}))\n",
    "print('Sending message...')\n",
    "time.sleep(1)"
   ]
  },
  {
   "cell_type": "code",
   "execution_count": null,
   "id": "1bc6f23d",
   "metadata": {},
   "outputs": [],
   "source": [
    "print('Calling service...')\n",
    "result = service.call(request)\n",
    "print('Service response: {}'.format(result['loggers']))"
   ]
  },
  {
   "cell_type": "code",
   "execution_count": null,
   "id": "0aef79b1",
   "metadata": {},
   "outputs": [],
   "source": [
    "# Python 3\n",
    "# Interface for a robot arm\n",
    "\n",
    "import enum\n",
    "import roslibpy\n",
    "import time\n",
    "import os\n",
    "\n",
    "class Color(enum.Enum):\n",
    "    Blue =   \"blue\"   #blue\n",
    "    Green =  \"green\"  #green\n",
    "    Yellow = \"yellow\" #yellow\n",
    "    Red =    \"red\"    #red\n",
    "    Orange = \"orange\" #orange\n",
    "    Black =  \"black\"  #black\n",
    "    \n",
    "class SceneObjectType(enum.Enum):\n",
    "    Block =  \"block\"  #block\n",
    "    Bin =    \"bin\"    #bin\n",
    "    Ball =   \"ball\"   #ball\n",
    "    \n",
    "class Pose:\n",
    "    position: str\n",
    "    orientation: str\n",
    "\n",
    "    def __init__(self, json):\n",
    "        self.position = json[\"position\"]\n",
    "        self.orientation = json[\"orientation\"]\n",
    "\n",
    "class SceneObject:\n",
    "    color: Color\n",
    "    object_type: SceneObjectType\n",
    "    pose: Pose\n",
    "        \n",
    "    def __init__(self, json):\n",
    "        self.color = Color(json[\"color\"])\n",
    "        self.object_type = SceneObjectType(json[\"object_type\"])\n",
    "        self.pose = Pose(json[\"pose\"])\n",
    "\n",
    "class RobotController:\n",
    "    def __init__(self):\n",
    "        self.ros_client = roslibpy.Ros(host='localhost', port=8080)\n",
    "        self.ros_client.run()\n",
    "        print('Is ROS connected?', self.ros_client.is_connected)\n",
    "        self.talker = roslibpy.Topic(self.ros_client, '/unity/pick_and_place', 'niryo_moveit/PickAndPlace')\n",
    "        self.service = roslibpy.Service(self.ros_client, '/unity/object_pose_svc', 'niryo_moveit/ObjectPoseService')\n",
    "        self.get_scene_objects_svc = roslibpy.Service(self.ros_client,\n",
    "                                                      '/unity/get_scene_objects_svc',\n",
    "                                                      'niryo_moveit/GetSceneObjectsService')\n",
    "    \n",
    "    def get_scene_objects(self):\n",
    "        \"\"\"Gets all objects in the visual scene.\"\"\"\n",
    "        request = roslibpy.ServiceRequest()\n",
    "        \n",
    "        print('Calling service...')\n",
    "        result = self.get_scene_objects_svc.call(request)\n",
    "        found_objects = []\n",
    "        for scene_obj_json in result[\"scene_objects\"]:\n",
    "            found_objects.append(SceneObject(scene_obj_json))\n",
    "        \n",
    "        return found_objects\n",
    "    \n",
    "        \n",
    "    def get_object_pose(self, name):\n",
    "        \"\"\"\n",
    "        Finds the pose of an object matching the specified name.\n",
    "        \"\"\"\n",
    "        request = roslibpy.ServiceRequest()\n",
    "        request[\"object_name\"] = name\n",
    "\n",
    "        print('Calling service...')\n",
    "        result = self.service.call(request)\n",
    "        \n",
    "        return result[\"object_pose\"]\n",
    "    \n",
    "    def pick_and_place(self, pick_pose, place_pose):\n",
    "        \"\"\"The robot will pick up the object at target_pose and move it to the placement_pose\"\"\"\n",
    "        self.talker.publish(roslibpy.Message({'pick_pose': pick_pose, 'place_pose': place_pose}))\n",
    "        print('Sending message...')\n",
    "        time.sleep(100)\n",
    "        \n",
    "    def __del__(self):\n",
    "        print('Destructor called. Shutting down ROS connection.')\n",
    "        #self.talker.unadvertise()\n",
    "        self.ros_client.terminate()\n",
    "    \n",
    "###\n",
    "        \n",
    "# Pick up the blue block and put in in the red bin.\n",
    "# The robot can only grasp one object at a time.\n",
    "def main():\n",
    "    robot = RobotController()\n",
    "    \n",
    "    scene_objects = robot.get_scene_objects()\n",
    "    \n",
    "    # Find blue block and red bin\n",
    "    blue_block = None\n",
    "    red_bin = None\n",
    "    for obj in scene_objects:\n",
    "        if obj.color == Color.Blue and obj.object_type == SceneObjectType.Block:\n",
    "            blue_block = obj\n",
    "        elif obj.color == Color.Red and obj.object_type == SceneObjectType.Bin:\n",
    "            red_bin = obj\n",
    "            \n",
    "    print (str(blue_block))\n",
    "    print (str(red_bin))\n",
    "    \n",
    "    #pick_pose = robot.get_object_pose(\"blue_block\")\n",
    "    #print (\"blue_block pose: \", pick_pose)\n",
    "    \n",
    "    #place_pose = robot.get_object_pose(\"black_bin\")\n",
    "    #print (\"black_bin pose: \", place_pose)\n",
    "    \n",
    "    #robot.pick_and_place(pick_pose, place_pose)\n",
    "    \n",
    "main()\n",
    "    \n",
    "###"
   ]
  },
  {
   "cell_type": "code",
   "execution_count": null,
   "id": "73f3c59f",
   "metadata": {},
   "outputs": [],
   "source": []
  }
 ],
 "metadata": {
  "kernelspec": {
   "display_name": "Python 3 (ipykernel)",
   "language": "python",
   "name": "python3"
  },
  "language_info": {
   "codemirror_mode": {
    "name": "ipython",
    "version": 3
   },
   "file_extension": ".py",
   "mimetype": "text/x-python",
   "name": "python",
   "nbconvert_exporter": "python",
   "pygments_lexer": "ipython3",
   "version": "3.9.12"
  }
 },
 "nbformat": 4,
 "nbformat_minor": 5
}
