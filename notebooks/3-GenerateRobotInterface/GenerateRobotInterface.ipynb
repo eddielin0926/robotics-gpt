{
 "cells": [
  {
   "cell_type": "markdown",
   "id": "b96b1f0b",
   "metadata": {},
   "source": [
    "# OpenAI Robotics Interaction Demo"
   ]
  },
  {
   "cell_type": "code",
   "execution_count": null,
   "id": "6adeca2a",
   "metadata": {},
   "outputs": [],
   "source": [
    "import os\n",
    "import openai\n",
    "import json\n",
    "\n",
    "# Load your API key\n",
    "key_file = open(\"../openai_key.txt\",\"r\")\n",
    "openai.api_key = key_file.read()\n",
    "openai_engine = \"code-davinci-002\""
   ]
  },
  {
   "cell_type": "markdown",
   "id": "04438b83",
   "metadata": {},
   "source": [
    "### Create your prompt"
   ]
  },
  {
   "cell_type": "code",
   "execution_count": null,
   "id": "eb6d9022",
   "metadata": {},
   "outputs": [],
   "source": [
    "prompt =  \"\"\"\n",
    "# Python 3\n",
    "# A ROS interface for a robot arm with 7 joints.\n",
    "# Defines topic publishers and subscribers for each joint.\n",
    "# Implements functions for operations like \"move forward\", \"move backward\", \"move up\", \"move down\", \"rotate left\", \"rotate right\", \"grasp\", \"release\"\n",
    "\n",
    "\"\"\""
   ]
  },
  {
   "cell_type": "markdown",
   "id": "818021e0",
   "metadata": {},
   "source": [
    "### Submit the request to OpenAI"
   ]
  },
  {
   "cell_type": "code",
   "execution_count": null,
   "id": "43169c54",
   "metadata": {},
   "outputs": [],
   "source": [
    "response = openai.Completion.create(engine=openai_engine, prompt=prompt, max_tokens=2000, temperature=0.5, stop=\"###\")\n",
    "response_text = response[\"choices\"][0][\"text\"]\n",
    "print(response_text)"
   ]
  },
  {
   "cell_type": "code",
   "execution_count": null,
   "id": "5c2e7f71",
   "metadata": {},
   "outputs": [],
   "source": []
  }
 ],
 "metadata": {
  "kernelspec": {
   "display_name": "Python 3 (ipykernel)",
   "language": "python",
   "name": "python3"
  },
  "language_info": {
   "codemirror_mode": {
    "name": "ipython",
    "version": 3
   },
   "file_extension": ".py",
   "mimetype": "text/x-python",
   "name": "python",
   "nbconvert_exporter": "python",
   "pygments_lexer": "ipython3",
   "version": "3.9.12"
  }
 },
 "nbformat": 4,
 "nbformat_minor": 5
}
